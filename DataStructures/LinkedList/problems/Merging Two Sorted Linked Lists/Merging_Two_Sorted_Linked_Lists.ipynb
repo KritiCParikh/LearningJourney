{
  "nbformat": 4,
  "nbformat_minor": 0,
  "metadata": {
    "colab": {
      "provenance": []
    },
    "kernelspec": {
      "name": "python3",
      "display_name": "Python 3"
    },
    "language_info": {
      "name": "python"
    }
  },
  "cells": [
    {
      "cell_type": "markdown",
      "source": [
        "Problem: Merge two sorted linked lists into one sorted linked list."
      ],
      "metadata": {
        "id": "_FCPhx2xZUmv"
      }
    },
    {
      "cell_type": "markdown",
      "source": [
        "Explanation: Iterate through both lists, comparing elements, and attach the smaller node to the result list.\n",
        "\n",
        "---\n",
        "\n",
        "\n",
        "Time Complexity: O(n + m), where n and m are the lengths of the two lists.\n",
        "\n",
        "\n",
        "Space Complexity: O(1)"
      ],
      "metadata": {
        "id": "xpf5DSgBhht1"
      }
    },
    {
      "cell_type": "code",
      "execution_count": 28,
      "metadata": {
        "id": "cUSpBpRtY7kv"
      },
      "outputs": [],
      "source": [
        "def merge_sorted_lists(l1, l2):\n",
        "    dummy = ListNode()\n",
        "    current = dummy\n",
        "    while l1 and l2:\n",
        "        if l1.val < l2.val:\n",
        "            current.next = l1\n",
        "            l1 = l1.next\n",
        "        else:\n",
        "            current.next = l2\n",
        "            l2 = l2.next\n",
        "        current = current.next\n",
        "    current.next = l1 or l2\n",
        "    return dummy.next"
      ]
    }
  ]
}