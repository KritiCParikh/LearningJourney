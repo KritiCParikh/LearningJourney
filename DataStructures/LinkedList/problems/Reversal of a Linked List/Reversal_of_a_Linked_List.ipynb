{
  "nbformat": 4,
  "nbformat_minor": 0,
  "metadata": {
    "colab": {
      "provenance": []
    },
    "kernelspec": {
      "name": "python3",
      "display_name": "Python 3"
    },
    "language_info": {
      "name": "python"
    }
  },
  "cells": [
    {
      "cell_type": "markdown",
      "source": [
        "Problem: Reverse a given linked list."
      ],
      "metadata": {
        "id": "_FCPhx2xZUmv"
      }
    },
    {
      "cell_type": "markdown",
      "source": [
        "Explanation: This solution uses three pointers:\n",
        "prev, current, and next_node to reverse the links between nodes iteratively.\n",
        "\n",
        "\n",
        "---\n",
        "\n",
        "\n",
        "Time Complexity: O(n)\n",
        "\n",
        "Space Complexity: O(1)"
      ],
      "metadata": {
        "id": "xpf5DSgBhht1"
      }
    },
    {
      "cell_type": "code",
      "execution_count": 18,
      "metadata": {
        "id": "cUSpBpRtY7kv"
      },
      "outputs": [],
      "source": [
        "class ListNode:\n",
        "    def __init__(self, val=0, next=None):\n",
        "        self.val = val\n",
        "        self.next = next\n",
        "\n",
        "def reverse_linked_list(head):\n",
        "    prev = None\n",
        "    current = head\n",
        "    while current:\n",
        "        next_node = current.next\n",
        "        current.next = prev\n",
        "        prev = current\n",
        "        current = next_node\n",
        "    return prev"
      ]
    }
  ]
}