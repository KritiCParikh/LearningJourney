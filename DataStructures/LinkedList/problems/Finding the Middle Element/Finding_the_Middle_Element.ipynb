{
  "nbformat": 4,
  "nbformat_minor": 0,
  "metadata": {
    "colab": {
      "provenance": []
    },
    "kernelspec": {
      "name": "python3",
      "display_name": "Python 3"
    },
    "language_info": {
      "name": "python"
    }
  },
  "cells": [
    {
      "cell_type": "markdown",
      "source": [
        "Problem: Find the middle element of a linked list."
      ],
      "metadata": {
        "id": "_FCPhx2xZUmv"
      }
    },
    {
      "cell_type": "markdown",
      "source": [
        "Explanation: Use the slow and fast pointers technique where the slow pointer moves one step and fast pointer moves two steps. When fast reaches the end, slow will be at the middle.\n",
        "\n",
        "\n",
        "---\n",
        "\n",
        "\n",
        "Time Complexity: O(n)\n",
        "\n",
        "Space Complexity: O(1)"
      ],
      "metadata": {
        "id": "xpf5DSgBhht1"
      }
    },
    {
      "cell_type": "code",
      "execution_count": 27,
      "metadata": {
        "id": "cUSpBpRtY7kv"
      },
      "outputs": [],
      "source": [
        "def find_middle(head):\n",
        "    slow = fast = head\n",
        "    while fast and fast.next:\n",
        "        slow = slow.next\n",
        "        fast = fast.next.next\n",
        "    return slow"
      ]
    }
  ]
}