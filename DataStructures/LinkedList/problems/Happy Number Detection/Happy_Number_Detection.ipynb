{
  "nbformat": 4,
  "nbformat_minor": 0,
  "metadata": {
    "colab": {
      "provenance": []
    },
    "kernelspec": {
      "name": "python3",
      "display_name": "Python 3"
    },
    "language_info": {
      "name": "python"
    }
  },
  "cells": [
    {
      "cell_type": "markdown",
      "source": [
        "Problem: Determine if a number is a \"happy number.\""
      ],
      "metadata": {
        "id": "_FCPhx2xZUmv"
      }
    },
    {
      "cell_type": "markdown",
      "source": [
        "Explanation: A happy number eventually reaches 1 when replaced by the sum of the squares of its digits. If it falls into a cycle, it’s not a happy number.\n",
        "\n",
        "---\n",
        "\n",
        "\n",
        "Time Complexity: O(log n)\n",
        "\n",
        "Space Complexity: O(log n)"
      ],
      "metadata": {
        "id": "xpf5DSgBhht1"
      }
    },
    {
      "cell_type": "code",
      "execution_count": 29,
      "metadata": {
        "id": "cUSpBpRtY7kv"
      },
      "outputs": [],
      "source": [
        "def is_happy(n):\n",
        "    def get_sum_of_squares(num):\n",
        "        total = 0\n",
        "        while num > 0:\n",
        "            digit = num % 10\n",
        "            total += digit * digit\n",
        "            num //= 10\n",
        "        return total\n",
        "\n",
        "    seen = set()\n",
        "    while n != 1 and n not in seen:\n",
        "        seen.add(n)\n",
        "        n = get_sum_of_squares(n)\n",
        "    return n == 1"
      ]
    }
  ]
}