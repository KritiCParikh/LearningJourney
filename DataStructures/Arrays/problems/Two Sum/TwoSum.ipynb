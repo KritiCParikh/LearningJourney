{
  "nbformat": 4,
  "nbformat_minor": 0,
  "metadata": {
    "colab": {
      "provenance": []
    },
    "kernelspec": {
      "name": "python3",
      "display_name": "Python 3"
    },
    "language_info": {
      "name": "python"
    }
  },
  "cells": [
    {
      "cell_type": "markdown",
      "source": [
        "Problem: Given an array and a target sum, find two numbers that add up to the target."
      ],
      "metadata": {
        "id": "_FCPhx2xZUmv"
      }
    },
    {
      "cell_type": "markdown",
      "source": [
        "Using HashMap - O(n)"
      ],
      "metadata": {
        "id": "8n66mtlAZWAP"
      }
    },
    {
      "cell_type": "code",
      "execution_count": 2,
      "metadata": {
        "id": "cUSpBpRtY7kv"
      },
      "outputs": [],
      "source": [
        "def two_sum(nums, target):\n",
        "    seen = {}  # Dictionary to store visited elements\n",
        "    for i, num in enumerate(nums):\n",
        "        complement = target - num\n",
        "        if complement in seen:\n",
        "            return [seen[complement], i]  # Returns indices\n",
        "        seen[num] = i\n",
        "    return []  # No solution found"
      ]
    },
    {
      "cell_type": "code",
      "source": [
        "print(two_sum([2, 11, 15], 13))  # Output: [0, 1]"
      ],
      "metadata": {
        "colab": {
          "base_uri": "https://localhost:8080/"
        },
        "id": "qGIqcpHLZDXW",
        "outputId": "3594c333-8bf4-43af-9fed-4bb2c6b37d25"
      },
      "execution_count": 3,
      "outputs": [
        {
          "output_type": "stream",
          "name": "stdout",
          "text": [
            "[0, 1]\n"
          ]
        }
      ]
    }
  ]
}