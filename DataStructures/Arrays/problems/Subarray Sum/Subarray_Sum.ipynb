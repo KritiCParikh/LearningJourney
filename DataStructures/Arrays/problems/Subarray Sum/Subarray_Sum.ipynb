{
  "nbformat": 4,
  "nbformat_minor": 0,
  "metadata": {
    "colab": {
      "provenance": []
    },
    "kernelspec": {
      "name": "python3",
      "display_name": "Python 3"
    },
    "language_info": {
      "name": "python"
    }
  },
  "cells": [
    {
      "cell_type": "markdown",
      "source": [
        "Problem: Find if there exists a contiguous subarray that sums to a given value."
      ],
      "metadata": {
        "id": "_FCPhx2xZUmv"
      }
    },
    {
      "cell_type": "markdown",
      "source": [
        "Using Prefix Sum - O(n)"
      ],
      "metadata": {
        "id": "8n66mtlAZWAP"
      }
    },
    {
      "cell_type": "code",
      "execution_count": 4,
      "metadata": {
        "id": "cUSpBpRtY7kv"
      },
      "outputs": [],
      "source": [
        "def subarray_sum(nums, target):\n",
        "    prefix_sum = {0: -1}  # Stores sum at each index\n",
        "    curr_sum = 0\n",
        "\n",
        "    for i, num in enumerate(nums):\n",
        "        curr_sum += num\n",
        "        if curr_sum - target in prefix_sum:\n",
        "            return [prefix_sum[curr_sum - target] + 1, i]  # Returns indices\n",
        "        prefix_sum[curr_sum] = i\n",
        "    return []"
      ]
    },
    {
      "cell_type": "code",
      "source": [
        "print(subarray_sum([1, 2, 3, 7, 5], 10))"
      ],
      "metadata": {
        "colab": {
          "base_uri": "https://localhost:8080/"
        },
        "id": "qGIqcpHLZDXW",
        "outputId": "fdd0da58-b4c5-410b-89ba-d6507364ff71"
      },
      "execution_count": 9,
      "outputs": [
        {
          "output_type": "stream",
          "name": "stdout",
          "text": [
            "[2, 3]\n"
          ]
        }
      ]
    }
  ]
}