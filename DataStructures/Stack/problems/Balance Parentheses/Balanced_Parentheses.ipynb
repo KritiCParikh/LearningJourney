{
  "nbformat": 4,
  "nbformat_minor": 0,
  "metadata": {
    "colab": {
      "provenance": []
    },
    "kernelspec": {
      "name": "python3",
      "display_name": "Python 3"
    },
    "language_info": {
      "name": "python"
    }
  },
  "cells": [
    {
      "cell_type": "markdown",
      "source": [
        "Problem: Check if parentheses, brackets, or braces in a string are balanced."
      ],
      "metadata": {
        "id": "_FCPhx2xZUmv"
      }
    },
    {
      "cell_type": "markdown",
      "source": [
        "- **Explanation**: We iterate through each character in the string once (O(n)), and we store the opening brackets in a stack, which can hold at most n elements in the worst case (O(n)).\n",
        "\n",
        "- **Time Complexity**: O(n)\n",
        "- **Space Complexity**: O(n)"
      ],
      "metadata": {
        "id": "xpf5DSgBhht1"
      }
    },
    {
      "cell_type": "code",
      "execution_count": 31,
      "metadata": {
        "id": "cUSpBpRtY7kv"
      },
      "outputs": [],
      "source": [
        "def isValid(s):\n",
        "    stack = []\n",
        "    mapping = {')': '(', '}': '{', ']': '['}\n",
        "\n",
        "    for char in s:\n",
        "        if char in mapping:\n",
        "            top = stack.pop() if stack else '#'\n",
        "            if mapping[char] != top:\n",
        "                return False\n",
        "        else:\n",
        "            stack.append(char)\n",
        "\n",
        "    return not stack"
      ]
    },
    {
      "cell_type": "code",
      "source": [
        "print(isValid(\"()[]{}\"))\n",
        "print(isValid(\"(]\"))"
      ],
      "metadata": {
        "colab": {
          "base_uri": "https://localhost:8080/"
        },
        "id": "pu14roffsi7N",
        "outputId": "23ac5dde-093e-4917-c8cf-0413bcaf5d3e"
      },
      "execution_count": 32,
      "outputs": [
        {
          "output_type": "stream",
          "name": "stdout",
          "text": [
            "True\n",
            "False\n"
          ]
        }
      ]
    }
  ]
}