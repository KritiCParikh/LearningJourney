{
  "nbformat": 4,
  "nbformat_minor": 0,
  "metadata": {
    "colab": {
      "provenance": []
    },
    "kernelspec": {
      "name": "python3",
      "display_name": "Python 3"
    },
    "language_info": {
      "name": "python"
    }
  },
  "cells": [
    {
      "cell_type": "markdown",
      "source": [
        "Problem: Reverse the elements of a stack.\n",
        "\n",
        "Solution: Use recursion to reverse the stack."
      ],
      "metadata": {
        "id": "_FCPhx2xZUmv"
      }
    },
    {
      "cell_type": "markdown",
      "source": [
        "- **Explanation**: We recurse through the stack, popping and pushing elements. Each recursion step performs a constant amount of work (O(1)), and the depth of recursion is proportional to the number of elements in the stack (O(n)).\n",
        "\n",
        "- **Time Complexity**: O(n)\n",
        "- **Space Complexity**: O(n)"
      ],
      "metadata": {
        "id": "xpf5DSgBhht1"
      }
    },
    {
      "cell_type": "code",
      "execution_count": 35,
      "metadata": {
        "id": "cUSpBpRtY7kv"
      },
      "outputs": [],
      "source": [
        "def reverse_stack(stack):\n",
        "    if not stack:\n",
        "        return\n",
        "    item = stack.pop()\n",
        "    reverse_stack(stack)\n",
        "    insert_at_bottom(stack, item)\n",
        "\n",
        "def insert_at_bottom(stack, item):\n",
        "    if not stack:\n",
        "        stack.append(item)\n",
        "        return\n",
        "    temp = stack.pop()\n",
        "    insert_at_bottom(stack, item)\n",
        "    stack.append(temp)"
      ]
    }
  ]
}