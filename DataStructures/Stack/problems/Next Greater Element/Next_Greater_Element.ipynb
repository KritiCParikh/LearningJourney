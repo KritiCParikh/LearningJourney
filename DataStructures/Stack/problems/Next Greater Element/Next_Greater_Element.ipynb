{
  "nbformat": 4,
  "nbformat_minor": 0,
  "metadata": {
    "colab": {
      "provenance": []
    },
    "kernelspec": {
      "name": "python3",
      "display_name": "Python 3"
    },
    "language_info": {
      "name": "python"
    }
  },
  "cells": [
    {
      "cell_type": "markdown",
      "source": [
        "Problem: Find the next greater element for each element in an array.\n",
        "\n",
        "Solution: Use a stack to keep track of indices and find the next greater element."
      ],
      "metadata": {
        "id": "_FCPhx2xZUmv"
      }
    },
    {
      "cell_type": "markdown",
      "source": [
        "- **Explanation**: We iterate over the array of elements once (O(n)), using a stack to track the indices of elements whose next greater element hasn't been found yet. Each element is pushed and popped from the stack once, so the time complexity is O(n). The stack stores up to n indices, resulting in O(n) space complexity.\n",
        "\n",
        "- **Time Complexity**: O(n)\n",
        "- **Space Complexity**: O(n)"
      ],
      "metadata": {
        "id": "xpf5DSgBhht1"
      }
    },
    {
      "cell_type": "code",
      "execution_count": 36,
      "metadata": {
        "id": "cUSpBpRtY7kv"
      },
      "outputs": [],
      "source": [
        "def next_greater_element(nums):\n",
        "    stack = []\n",
        "    result = [-1] * len(nums)\n",
        "    for i in range(len(nums)):\n",
        "        while stack and nums[i] > nums[stack[-1]]:\n",
        "            index = stack.pop()\n",
        "            result[index] = nums[i]\n",
        "        stack.append(i)\n",
        "    return result"
      ]
    }
  ]
}