{
  "nbformat": 4,
  "nbformat_minor": 0,
  "metadata": {
    "colab": {
      "provenance": []
    },
    "kernelspec": {
      "name": "python3",
      "display_name": "Python 3"
    },
    "language_info": {
      "name": "python"
    }
  },
  "cells": [
    {
      "cell_type": "markdown",
      "source": [
        "Problem: Implement a queue using two stacks."
      ],
      "metadata": {
        "id": "_FCPhx2xZUmv"
      }
    },
    {
      "cell_type": "markdown",
      "source": [
        "\n",
        "Algorithm (Two Stacks - s1 and s2):\n",
        "\n",
        "1. Enqueue (Push to s1).\n",
        "2. Dequeue (Pop from s2):\n",
        "\n",
        "- If s2 is empty, move all elements from s1 to s2.\n",
        "- Pop from s2.\n",
        "\n",
        "3. Time Complexity: O(1) for enqueue,\n",
        "O(n) for dequeue"
      ],
      "metadata": {
        "id": "xpf5DSgBhht1"
      }
    },
    {
      "cell_type": "code",
      "execution_count": 33,
      "metadata": {
        "id": "cUSpBpRtY7kv",
        "colab": {
          "base_uri": "https://localhost:8080/"
        },
        "outputId": "a7430094-f099-4457-ce58-c805a4283db8"
      },
      "outputs": [
        {
          "output_type": "stream",
          "name": "stdout",
          "text": [
            "1\n",
            "2\n"
          ]
        }
      ],
      "source": [
        "class QueueUsingStacks:\n",
        "    def __init__(self):\n",
        "        self.s1 = []\n",
        "        self.s2 = []\n",
        "\n",
        "    def enqueue(self, x):\n",
        "        self.s1.append(x)\n",
        "\n",
        "    def dequeue(self):\n",
        "        if not self.s2:\n",
        "            while self.s1:\n",
        "                self.s2.append(self.s1.pop())\n",
        "        return self.s2.pop() if self.s2 else None"
      ]
    },
    {
      "cell_type": "code",
      "source": [
        "q = QueueUsingStacks()\n",
        "q.enqueue(1)\n",
        "q.enqueue(2)\n",
        "q.enqueue(3)\n",
        "\n",
        "print(q.dequeue())\n",
        "print(q.dequeue())"
      ],
      "metadata": {
        "colab": {
          "base_uri": "https://localhost:8080/"
        },
        "id": "pu14roffsi7N",
        "outputId": "c32c8022-9f0d-4f54-d71d-5532f6e1cf0b"
      },
      "execution_count": 34,
      "outputs": [
        {
          "output_type": "stream",
          "name": "stdout",
          "text": [
            "1\n",
            "2\n"
          ]
        }
      ]
    }
  ]
}