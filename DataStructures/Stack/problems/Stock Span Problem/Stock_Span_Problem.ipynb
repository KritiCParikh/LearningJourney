{
  "nbformat": 4,
  "nbformat_minor": 0,
  "metadata": {
    "colab": {
      "provenance": []
    },
    "kernelspec": {
      "name": "python3",
      "display_name": "Python 3"
    },
    "language_info": {
      "name": "python"
    }
  },
  "cells": [
    {
      "cell_type": "markdown",
      "source": [
        "Problem: Find the span of stock prices for each day.\n",
        "\n",
        "Solution: Use a stack to keep track of previous prices and their indices. (Code example not provided here, but it can be solved by iterating over the array and using a stack to track the indices of previous days.)"
      ],
      "metadata": {
        "id": "_FCPhx2xZUmv"
      }
    },
    {
      "cell_type": "markdown",
      "source": [
        "- **Time Complexity**: O(n)\n",
        "- **Space Complexity**: O(n)\n",
        "\n",
        "- **Explanation**: We iterate through the stock prices once (O(n)), using a stack to track indices of previous prices. Each element is pushed and popped from the stack at most once, leading to an O(n) time complexity. The stack requires O(n) space to store the indices.\n"
      ],
      "metadata": {
        "id": "xpf5DSgBhht1"
      }
    },
    {
      "cell_type": "code",
      "execution_count": 39,
      "metadata": {
        "id": "cUSpBpRtY7kv"
      },
      "outputs": [],
      "source": [
        "def stock_span(prices):\n",
        "    n = len(prices)\n",
        "    span = [1] * n  # Initialize span for each day with 1\n",
        "    stack = []\n",
        "\n",
        "    for i in range(n):\n",
        "        # Calculate span for the current day\n",
        "        while stack and prices[stack[-1]] <= prices[i]:\n",
        "            stack.pop()\n",
        "        if stack:\n",
        "            span[i] = i - stack[-1]\n",
        "        else:\n",
        "            span[i] = i + 1  # If no element is greater, span is i + 1\n",
        "        stack.append(i)\n",
        "\n",
        "    return span"
      ]
    },
    {
      "cell_type": "code",
      "source": [
        "prices = [100, 80, 60, 70, 60, 75, 85]\n",
        "print(stock_span(prices))"
      ],
      "metadata": {
        "colab": {
          "base_uri": "https://localhost:8080/"
        },
        "id": "LM4K8kKWvSuh",
        "outputId": "352ea394-baa4-465c-a8dc-1789cd053444"
      },
      "execution_count": 40,
      "outputs": [
        {
          "output_type": "stream",
          "name": "stdout",
          "text": [
            "[1, 1, 1, 2, 1, 4, 6]\n"
          ]
        }
      ]
    }
  ]
}