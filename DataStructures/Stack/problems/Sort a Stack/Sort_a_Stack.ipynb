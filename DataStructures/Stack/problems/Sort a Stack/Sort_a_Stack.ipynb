{
  "nbformat": 4,
  "nbformat_minor": 0,
  "metadata": {
    "colab": {
      "provenance": []
    },
    "kernelspec": {
      "name": "python3",
      "display_name": "Python 3"
    },
    "language_info": {
      "name": "python"
    }
  },
  "cells": [
    {
      "cell_type": "markdown",
      "source": [
        "Problem: Sort the elements of a stack.\n",
        "\n",
        "Solution: Use recursion to pop elements, then insert them in the correct position."
      ],
      "metadata": {
        "id": "_FCPhx2xZUmv"
      }
    },
    {
      "cell_type": "markdown",
      "source": [
        "- **Explanation**: Sorting a stack using recursion requires moving all elements in and out of the stack multiple times. The time complexity arises from repeatedly inserting elements in sorted order (O(n) for each of the n elements), leading to an overall O(n^2) complexity.\n",
        "\n",
        "- **Time Complexity**: O(n^2)\n",
        "- **Space Complexity**: O(n)\n"
      ],
      "metadata": {
        "id": "xpf5DSgBhht1"
      }
    },
    {
      "cell_type": "code",
      "execution_count": 36,
      "metadata": {
        "id": "cUSpBpRtY7kv"
      },
      "outputs": [],
      "source": [
        "def sort_stack(stack):\n",
        "    if not stack:\n",
        "        return\n",
        "    temp = stack.pop()\n",
        "    sort_stack(stack)\n",
        "    insert_sorted(stack, temp)\n",
        "\n",
        "def insert_sorted(stack, temp):\n",
        "    if not stack or stack[-1] <= temp:\n",
        "        stack.append(temp)\n",
        "        return\n",
        "    item = stack.pop()\n",
        "    insert_sorted(stack, temp)\n",
        "    stack.append(item)"
      ]
    }
  ]
}