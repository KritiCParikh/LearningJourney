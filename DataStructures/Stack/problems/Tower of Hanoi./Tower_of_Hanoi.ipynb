{
  "nbformat": 4,
  "nbformat_minor": 0,
  "metadata": {
    "colab": {
      "provenance": []
    },
    "kernelspec": {
      "name": "python3",
      "display_name": "Python 3"
    },
    "language_info": {
      "name": "python"
    }
  },
  "cells": [
    {
      "cell_type": "markdown",
      "source": [
        "Problem: Solve the Tower of Hanoi puzzle using stacks.\n",
        "\n",
        "Solution: Use recursion and stacks to move disks between pegs while adhering to the rules. (No code provided here due to complexity, but it follows recursive stack operations.)\n"
      ],
      "metadata": {
        "id": "_FCPhx2xZUmv"
      }
    },
    {
      "cell_type": "markdown",
      "source": [
        "- Time Complexity: O(2^n)\n",
        "\n",
        "- Space Complexity: O(n)\n",
        "\n",
        "- Explanation: The recursive approach has two recursive calls at each level and makes 2^n moves, which results in an exponential time complexity. The space complexity is O(n) due to the recursion stack."
      ],
      "metadata": {
        "id": "xpf5DSgBhht1"
      }
    },
    {
      "cell_type": "code",
      "execution_count": 37,
      "metadata": {
        "id": "cUSpBpRtY7kv"
      },
      "outputs": [],
      "source": [
        "def tower_of_hanoi(n, source, auxiliary, destination):\n",
        "    if n == 1:\n",
        "        print(f\"Move disk 1 from {source} to {destination}\")\n",
        "        return\n",
        "    tower_of_hanoi(n-1, source, destination, auxiliary)\n",
        "    print(f\"Move disk {n} from {source} to {destination}\")\n",
        "    tower_of_hanoi(n-1, auxiliary, source, destination)"
      ]
    },
    {
      "cell_type": "code",
      "source": [
        "n = 3  # Number of disks\n",
        "tower_of_hanoi(n, 'A', 'B', 'C')"
      ],
      "metadata": {
        "colab": {
          "base_uri": "https://localhost:8080/"
        },
        "id": "LM4K8kKWvSuh",
        "outputId": "e608abe8-8159-45d8-f48f-3659447f9d93"
      },
      "execution_count": 38,
      "outputs": [
        {
          "output_type": "stream",
          "name": "stdout",
          "text": [
            "Move disk 1 from A to C\n",
            "Move disk 2 from A to B\n",
            "Move disk 1 from C to B\n",
            "Move disk 3 from A to C\n",
            "Move disk 1 from B to A\n",
            "Move disk 2 from B to C\n",
            "Move disk 1 from A to C\n"
          ]
        }
      ]
    }
  ]
}